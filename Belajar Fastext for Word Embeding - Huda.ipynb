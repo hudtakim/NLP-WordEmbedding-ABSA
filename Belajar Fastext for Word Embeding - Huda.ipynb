{
 "cells": [
  {
   "cell_type": "markdown",
   "metadata": {},
   "source": [
    "## 1. import library"
   ]
  },
  {
   "cell_type": "code",
   "execution_count": 3,
   "metadata": {},
   "outputs": [],
   "source": [
    "import pandas as pd\n",
    "import numpy as np\n",
    "import re\n",
    "from tqdm import tqdm\n",
    "\n",
    "from gensim.models.fasttext import FastText\n",
    " \n",
    "from sklearn.decomposition import PCA\n",
    "from sklearn.manifold import TSNE\n",
    "import seaborn as sns\n",
    "import matplotlib.pyplot as plt"
   ]
  },
  {
   "cell_type": "markdown",
   "metadata": {},
   "source": [
    "## 2. Preprocessed Data"
   ]
  },
  {
   "cell_type": "code",
   "execution_count": 4,
   "metadata": {},
   "outputs": [],
   "source": [
    "word_tokens = [['quick', 'mtg'],\n",
    " ['cucumber', 'strawberry', 'refresher'],\n",
    " ['nice', 'good', 'service', 'good', 'food'],\n",
    " ['small', 'place', 'staff', 'friendly'],\n",
    " ['yay', 'sandwich', 'nostaffu', 'total', 'bargain', 'sandwich', 'awesome']]"
   ]
  },
  {
   "cell_type": "markdown",
   "metadata": {},
   "source": [
    "## 3. Build FastText Model"
   ]
  },
  {
   "cell_type": "code",
   "execution_count": 11,
   "metadata": {},
   "outputs": [
    {
     "name": "stdout",
     "output_type": "stream",
     "text": [
      "\n",
      "Training time: 1.076s\n"
     ]
    }
   ],
   "source": [
    "from time import time\n",
    "\n",
    "embedding_size = 100\n",
    "window_size = 5\n",
    "min_word = 1\n",
    "down_sampling = 1e-2\n",
    " \n",
    "t0 = time()\n",
    "fast_Text_model = FastText(word_tokens,\n",
    "                      vector_size=embedding_size,\n",
    "                      window=window_size,\n",
    "                      min_count=min_word,\n",
    "                      sample=down_sampling,\n",
    "                      workers = 4,\n",
    "                      sg=1,\n",
    "                      epochs=100);\n",
    "\n",
    "print(f\"\\nTraining time: {round(time()-t0, 3)}s\")"
   ]
  },
  {
   "cell_type": "code",
   "execution_count": 12,
   "metadata": {},
   "outputs": [],
   "source": [
    "# Save fastText gensim model\n",
    "fast_Text_model.save(\"model/ft_model\")"
   ]
  },
  {
   "cell_type": "markdown",
   "metadata": {},
   "source": [
    "## 4. Explore Model"
   ]
  },
  {
   "cell_type": "code",
   "execution_count": 13,
   "metadata": {},
   "outputs": [],
   "source": [
    "from gensim.models import Word2Vec\n",
    "# Load saved gensim fastText model\n",
    "fast_Text_model = Word2Vec.load(\"model/ft_model\")"
   ]
  },
  {
   "cell_type": "code",
   "execution_count": 14,
   "metadata": {},
   "outputs": [
    {
     "data": {
      "text/plain": [
       "array([-1.49177131e-03,  8.83172266e-04,  3.14428646e-04, -5.36011175e-05,\n",
       "        4.02795325e-04,  8.16551183e-05,  4.76690257e-05,  3.85001535e-04,\n",
       "       -3.12160671e-04, -2.43557879e-04, -6.76430762e-04, -9.02150350e-04,\n",
       "        1.73195549e-05,  1.50748272e-03,  4.71884618e-04, -8.24975665e-04,\n",
       "        5.93960649e-05,  4.13560367e-04, -2.81986926e-04, -1.38229094e-04,\n",
       "        3.33344593e-04, -9.42757761e-04,  9.50736634e-04,  1.07987039e-03,\n",
       "        1.40714960e-03, -2.75058643e-04,  6.16602367e-04, -8.47805059e-04,\n",
       "        1.31281791e-03,  2.06476121e-04,  4.10324283e-05, -2.16077111e-04,\n",
       "       -8.78163963e-04, -7.05074577e-04, -3.46704794e-04,  7.19321775e-04,\n",
       "        2.35355892e-05,  1.48475912e-04,  8.60856264e-04,  3.08710005e-04,\n",
       "       -1.14230505e-04, -1.13732088e-03,  1.27035833e-03, -2.91913078e-04,\n",
       "        6.91096415e-04, -5.89266012e-04, -2.26766759e-04, -7.33948953e-04,\n",
       "        1.63060875e-04, -1.48878258e-03,  5.30056830e-04, -8.18783068e-04,\n",
       "       -3.43941530e-04, -1.75404915e-04,  1.92968699e-04,  6.17974147e-04,\n",
       "       -5.28165081e-04,  3.97702097e-04,  1.01796805e-03,  9.62536360e-05,\n",
       "       -8.61334207e-04,  9.30581009e-04, -4.94061853e-04, -1.23452730e-04,\n",
       "        3.14805860e-04,  4.47683880e-04, -1.01452658e-03,  5.98350773e-04,\n",
       "        5.26407850e-04,  1.10753826e-04, -9.69460743e-05,  6.73637202e-04,\n",
       "       -7.81773299e-04,  1.71349477e-03, -3.96716816e-04, -3.09950905e-04,\n",
       "        1.08635600e-03, -3.26934445e-04, -1.10185298e-03,  8.09226185e-05,\n",
       "       -6.84191240e-04,  5.46190946e-04, -8.61539680e-04, -4.34342539e-04,\n",
       "        1.37402094e-04,  1.21670461e-03, -1.03514362e-03,  8.51427758e-05,\n",
       "       -4.84276214e-04, -5.95950405e-04, -6.57758268e-04, -1.83904520e-03,\n",
       "       -8.76862148e-04,  9.90434550e-04, -6.30679890e-04, -3.97770113e-04,\n",
       "        5.61944849e-04, -8.20315909e-04, -1.49239233e-04, -9.60084581e-05],\n",
       "      dtype=float32)"
      ]
     },
     "execution_count": 14,
     "metadata": {},
     "output_type": "execute_result"
    }
   ],
   "source": [
    "# Check word embedding for a perticular word \n",
    "fast_Text_model.wv['theservice of staff is good super']"
   ]
  },
  {
   "cell_type": "code",
   "execution_count": 15,
   "metadata": {},
   "outputs": [
    {
     "data": {
      "text/plain": [
       "(100,)"
      ]
     },
     "execution_count": 15,
     "metadata": {},
     "output_type": "execute_result"
    }
   ],
   "source": [
    "# Dimention must be 100\n",
    "fast_Text_model.wv['staff'].shape"
   ]
  },
  {
   "cell_type": "code",
   "execution_count": 16,
   "metadata": {},
   "outputs": [
    {
     "data": {
      "text/plain": [
       "[('nostaffu', 0.880402684211731),\n",
       " ('sandwich', 0.8160879611968994),\n",
       " ('place', 0.8003676533699036),\n",
       " ('good', 0.7828870415687561),\n",
       " ('strawberry', 0.7416397333145142),\n",
       " ('total', 0.7295132875442505),\n",
       " ('food', 0.7260056138038635),\n",
       " ('bargain', 0.7185301780700684),\n",
       " ('small', 0.6974852681159973),\n",
       " ('refresher', 0.676905632019043)]"
      ]
     },
     "execution_count": 16,
     "metadata": {},
     "output_type": "execute_result"
    }
   ],
   "source": [
    "# Check top 10 similar word for a given word by gensim fastText\n",
    "fast_Text_model.wv.most_similar('staff', topn=10)"
   ]
  },
  {
   "cell_type": "code",
   "execution_count": 17,
   "metadata": {},
   "outputs": [
    {
     "data": {
      "text/plain": [
       "0.8804027"
      ]
     },
     "execution_count": 17,
     "metadata": {},
     "output_type": "execute_result"
    }
   ],
   "source": [
    "# Check top 10 similarity score between two word\n",
    "fast_Text_model.wv.similarity('staff', 'nostaffu')"
   ]
  },
  {
   "cell_type": "markdown",
   "metadata": {},
   "source": [
    "## 5. Visualisasi"
   ]
  },
  {
   "cell_type": "code",
   "execution_count": 21,
   "metadata": {},
   "outputs": [],
   "source": [
    "# tsne plot for below word\n",
    "# for_word = 'food'\n",
    "def tsne_plot(for_word, w2v_model):\n",
    "    # trained fastText model dimention\n",
    "    dim_size = w2v_model.wv.vectors.shape[1]\n",
    " \n",
    "    arrays = np.empty((0, dim_size), dtype='f')\n",
    "    word_labels = [for_word]\n",
    "    color_list  = ['red']\n",
    " \n",
    "    # adds the vector of the query word\n",
    "    arrays = np.append(arrays, w2v_model.wv.__getitem__([for_word]), axis=0)\n",
    " \n",
    "    # gets list of most similar words\n",
    "    sim_words = w2v_model.wv.most_similar(for_word, topn=10)\n",
    " \n",
    "    # adds the vector for each of the closest words to the array\n",
    "    for wrd_score in sim_words:\n",
    "        wrd_vector = w2v_model.wv.__getitem__([wrd_score[0]])\n",
    "        word_labels.append(wrd_score[0])\n",
    "        color_list.append('green')\n",
    "        arrays = np.append(arrays, wrd_vector, axis=0)\n",
    " \n",
    "    #---------------------- Apply PCA and tsne to reduce dimention --------------\n",
    " \n",
    "    # fit 2d PCA model to the similar word vectors\n",
    "    model_pca = PCA(n_components = 10).fit_transform(arrays)\n",
    " \n",
    "    # Finds 2d coordinates t-SNE\n",
    "    np.set_printoptions(suppress=True)\n",
    "    Y = TSNE(n_components=2, random_state=0, perplexity=15).fit_transform(model_pca)\n",
    " \n",
    "    # Sets everything up to plot\n",
    "    df_plot = pd.DataFrame({'x': [x for x in Y[:, 0]],\n",
    "                       'y': [y for y in Y[:, 1]],\n",
    "                       'words_name': word_labels,\n",
    "                       'words_color': color_list})\n",
    " \n",
    "    #------------------------- tsne plot Python -----------------------------------\n",
    " \n",
    "    # plot dots with color and position\n",
    "    plot_dot = sns.regplot(data=df_plot,\n",
    "                     x=\"x\",\n",
    "                     y=\"y\",\n",
    "                     fit_reg=False,\n",
    "                     marker=\"o\",\n",
    "                     scatter_kws={'s': 40,\n",
    "                                  'facecolors': df_plot['words_color']\n",
    "                                 }\n",
    "                    )\n",
    " \n",
    "    # Adds annotations with color one by one with a loop\n",
    "    for line in range(0, df_plot.shape[0]):\n",
    "         plot_dot.text(df_plot[\"x\"][line],\n",
    "                 df_plot['y'][line],\n",
    "                 '  ' + df_plot[\"words_name\"][line].title(),\n",
    "                 horizontalalignment='left',\n",
    "                 verticalalignment='bottom', size='medium',\n",
    "                 color=df_plot['words_color'][line],\n",
    "                 weight='normal'\n",
    "                ).set_size(15)\n",
    " \n",
    " \n",
    "    plt.xlim(Y[:, 0].min()-50, Y[:, 0].max()+50)\n",
    "    plt.ylim(Y[:, 1].min()-50, Y[:, 1].max()+50)\n",
    " \n",
    "    plt.title('t-SNE visualization for word \"{}'.format(for_word.title()) +'\"')"
   ]
  },
  {
   "cell_type": "code",
   "execution_count": 23,
   "metadata": {},
   "outputs": [
    {
     "data": {
      "image/png": "[encoded data removed]",
      "text/plain": [
       "<Figure size 432x288 with 1 Axes>"
      ]
     },
     "metadata": {
      "needs_background": "light"
     },
     "output_type": "display_data"
    }
   ],
   "source": [
    "# tsne plot for top 10 similar word to 'chicken'\n",
    "tsne_plot(for_word='staff', w2v_model=fast_Text_model)"
   ]
  }
 ],
 "metadata": {
  "kernelspec": {
   "display_name": "Python 3 (ipykernel)",
   "language": "python",
   "name": "python3"
  },
  "language_info": {
   "codemirror_mode": {
    "name": "ipython",
    "version": 3
   },
   "file_extension": ".py",
   "mimetype": "text/x-python",
   "name": "python",
   "nbconvert_exporter": "python",
   "pygments_lexer": "ipython3",
   "version": "3.7.11"
  }
 },
 "nbformat": 4,
 "nbformat_minor": 2
}

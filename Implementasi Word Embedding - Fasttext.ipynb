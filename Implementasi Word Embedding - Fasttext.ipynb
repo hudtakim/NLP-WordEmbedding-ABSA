{
 "cells": [
  {
   "cell_type": "code",
   "execution_count": 8,
   "id": "daa6aadf",
   "metadata": {},
   "outputs": [],
   "source": [
    "import pandas as pd\n",
    "import numpy as np\n",
    "import re\n",
    "import nltk\n",
    "from tqdm import tqdm\n",
    "\n",
    "from gensim.models.fasttext import FastText\n",
    " \n",
    "from sklearn.decomposition import PCA\n",
    "from sklearn.manifold import TSNE\n",
    "import seaborn as sns\n",
    "import matplotlib.pyplot as plt"
   ]
  },
  {
   "cell_type": "code",
   "execution_count": 9,
   "id": "943dff56",
   "metadata": {},
   "outputs": [],
   "source": [
    "import pickle\n",
    "\n",
    "def load_features(f_name):\n",
    "    features = open(\"Dataset/Hasil Preprocessing 2/\" + f_name + \".pickle\", \"rb\")\n",
    "    return pickle.load(features)\n",
    "\n",
    "x_train_a1 = load_features('x_train_a1')"
   ]
  },
  {
   "cell_type": "code",
   "execution_count": 14,
   "id": "9c14341e",
   "metadata": {},
   "outputs": [],
   "source": [
    "def tokenize(X):\n",
    "    token_list = list()\n",
    "    for data in X:\n",
    "        tokenized = data.split()\n",
    "        token_list.append(tokenized)\n",
    "        \n",
    "    return token_list\n",
    "\n",
    "word_tokens = tokenize(x_train_a1)"
   ]
  },
  {
   "cell_type": "code",
   "execution_count": 16,
   "id": "ec3bd1c9",
   "metadata": {},
   "outputs": [
    {
     "data": {
      "text/plain": [
       "3033"
      ]
     },
     "execution_count": 16,
     "metadata": {},
     "output_type": "execute_result"
    }
   ],
   "source": [
    "len(word_tokens)"
   ]
  },
  {
   "cell_type": "code",
   "execution_count": 17,
   "id": "9de9be7c",
   "metadata": {},
   "outputs": [
    {
     "name": "stdout",
     "output_type": "stream",
     "text": [
      "\n",
      "Training time: 42.923s\n"
     ]
    }
   ],
   "source": [
    "from time import time\n",
    "\n",
    "embedding_size = 300\n",
    "window_size = 5\n",
    "min_word = 1\n",
    "down_sampling = 1e-2\n",
    " \n",
    "t0 = time()\n",
    "fast_Text_model = FastText(word_tokens,\n",
    "                      vector_size=embedding_size,\n",
    "                      window=window_size,\n",
    "                      min_count=min_word,\n",
    "                      sample=down_sampling,\n",
    "                      workers = 4,\n",
    "                      sg=1,\n",
    "                      epochs=100);\n",
    "\n",
    "print(f\"\\nTraining time: {round(time()-t0, 3)}s\")"
   ]
  },
  {
   "cell_type": "code",
   "execution_count": 18,
   "id": "d0771e0d",
   "metadata": {},
   "outputs": [],
   "source": [
    "# Save fastText gensim model\n",
    "fast_Text_model.save(\"model/ft_model\")"
   ]
  },
  {
   "cell_type": "code",
   "execution_count": 19,
   "id": "8f25657e",
   "metadata": {},
   "outputs": [],
   "source": [
    "from gensim.models import Word2Vec\n",
    "# Load saved gensim fastText model\n",
    "fast_Text_model = Word2Vec.load(\"model/ft_model\")"
   ]
  }
 ],
 "metadata": {
  "kernelspec": {
   "display_name": "Python 3 (ipykernel)",
   "language": "python",
   "name": "python3"
  },
  "language_info": {
   "codemirror_mode": {
    "name": "ipython",
    "version": 3
   },
   "file_extension": ".py",
   "mimetype": "text/x-python",
   "name": "python",
   "nbconvert_exporter": "python",
   "pygments_lexer": "ipython3",
   "version": "3.7.11"
  }
 },
 "nbformat": 4,
 "nbformat_minor": 5
}
